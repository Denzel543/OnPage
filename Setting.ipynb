{
    "workbench.colorTheme": "Default Dark+",
    "remote.autoForwardPortsSource": "hybrid"
}